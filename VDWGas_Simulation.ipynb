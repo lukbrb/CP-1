{
 "cells": [
  {
   "cell_type": "markdown",
   "metadata": {},
   "source": [
    "# Van Der Waals gas simulation                                 \n",
    "\n",
    "**Lucas Barbier**\n",
    "\n",
    "\n",
    "## 1 - Introduction\n",
    "\n",
    "In this work we will try to modelise a real monoatomic gas using the Monte carlo method. Specifically, we will use the the Metropolis algorithm.  \n",
    "Where for a perfect gas, masses, radius and therefore interactions between the particles are neglicted, particles in a real gas interact accordingly to the Van der Waals law.\n",
    "We will modelise a gas of $N$ identical atoms in a periodic box, their energy being described by the Lennard-Jones potential : $$ \\phi(r) = 4\\epsilon_0 \\times \\left[\\left(\\dfrac{\\sigma}{r}\\right)^{12} - \\left(\\dfrac{\\sigma}{r}\\right)^6\\right]$$ \n",
    "\n",
    "where $\\epsilon$ can be seen as the *dispersion in energy*, $\\sigma$ the size of the particle and $r$ being the distance between the two atoms.\n",
    "\n",
    "The code has first been implemented in `Python`, making it clear and easy to read and verify, but the simulations were performed with a version of the code written in `C`. Details will be discussed further in the document. \n",
    "\n",
    "## 2 - Physics of the model\n",
    "\n",
    "### 2.1 - The Lennard-Jones potential\n",
    "\n",
    "As seen in the introduction, the interactions between particles is described by the Lennard-Jones potential. The term to the power of 6 describes an attraction between the particles and dominates on long range distances. It is named the *Van der Waals interaction*. On the other hand, the term to the power of 12 is a repulsive term acting on short distances. It is an experimental term added to respect *Pauli's Principle*. \n",
    "\n",
    "### 2.2 - Statistical Physics \n",
    "\n",
    "The procedure of the Metropolis algorithm can be used to describe a lot of different physical phenomenas and, by its nature, is therefore often used in statistical physics. \n",
    "In statistical physics, several ensembles can be described :\n",
    "- The microcanonical ensemble : the number of particles $N$, the volume $V$ and the energy $E$ are fixed. \n",
    "- The canonical ensemble : the number of particles $N$, the volume $V$ and the temperature $T$ are fixed. \n",
    "- The grand canonical ensemble : the chemical potential $\\mu$, the volume $V$ and the temperature $T$ are fixed. \n",
    "- The isothermal-isobaric ensemble : the number of particles $N$, the pressure $P$ and the temperature $T$ are fixed. \n",
    "\n",
    "As it is the one considered in the common metropolis algorithm, we will proceed our study in the canonical ensemble. \n",
    "\n",
    "#### The canonical ensemble\n",
    "It is important to precise that in a canonical ensemble, the system is in a thermal equilibrium with a heat bath. The energy exchanges are thermic only. \n",
    "## 3 - Procedure\n",
    "\n",
    "We will consider a fixed number of atom $N$, a fixed temperature $T$ and a fixed volume $V$, delimited by a periodic box of dimensions $L_x$ $L_y$ and $L_z$. \n",
    "We will then calculate the value towards which the energy converges. "
   ]
  },
  {
   "cell_type": "markdown",
   "metadata": {},
   "source": []
  }
 ],
 "metadata": {
  "language_info": {
   "name": "plaintext"
  },
  "orig_nbformat": 4
 },
 "nbformat": 4,
 "nbformat_minor": 2
}
